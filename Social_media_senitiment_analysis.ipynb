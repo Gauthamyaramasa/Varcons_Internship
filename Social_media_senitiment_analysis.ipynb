{
  "cells": [
    {
      "cell_type": "code",
      "execution_count": 31,
      "metadata": {
        "id": "RmiGsW23UDjE",
        "colab": {
          "base_uri": "https://localhost:8080/"
        },
        "outputId": "6e3f9128-900a-44ef-965a-0f1266670361"
      },
      "outputs": [
        {
          "output_type": "stream",
          "name": "stdout",
          "text": [
            "Epoch 1/7\n",
            "3464/3464 [==============================] - 60s 17ms/step - loss: 0.9647 - accuracy: 0.8413 - val_loss: 0.3747 - val_accuracy: 0.9223\n",
            "Epoch 2/7\n",
            "3464/3464 [==============================] - 29s 8ms/step - loss: 0.3556 - accuracy: 0.9433 - val_loss: 0.2979 - val_accuracy: 0.9547\n",
            "Epoch 3/7\n",
            "3464/3464 [==============================] - 27s 8ms/step - loss: 0.3023 - accuracy: 0.9602 - val_loss: 0.2820 - val_accuracy: 0.9624\n",
            "Epoch 4/7\n",
            "3464/3464 [==============================] - 29s 8ms/step - loss: 0.2769 - accuracy: 0.9662 - val_loss: 0.2826 - val_accuracy: 0.9629\n",
            "Epoch 5/7\n",
            "3464/3464 [==============================] - 27s 8ms/step - loss: 0.2617 - accuracy: 0.9701 - val_loss: 0.2782 - val_accuracy: 0.9652\n",
            "Epoch 6/7\n",
            "3464/3464 [==============================] - 27s 8ms/step - loss: 0.2477 - accuracy: 0.9738 - val_loss: 0.2933 - val_accuracy: 0.9650\n",
            "Epoch 7/7\n",
            "3464/3464 [==============================] - 29s 8ms/step - loss: 0.2391 - accuracy: 0.9759 - val_loss: 0.2931 - val_accuracy: 0.9641\n",
            "764/764 [==============================] - 3s 4ms/step - loss: 0.2973 - accuracy: 0.9629\n",
            "Test loss: 0.2973049283027649\n",
            "Test accuracy: 0.9628978371620178\n"
          ]
        }
      ],
      "source": [
        "import numpy as np\n",
        "import pandas as pd\n",
        "import matplotlib.pyplot as plt\n",
        "import seaborn as sns\n",
        "import tensorflow as tf\n",
        "plt.style.use('ggplot')\n",
        "from tensorflow import keras\n",
        "\n",
        "# Load the dataset\n",
        "data = pd.read_csv('Twitter_Data.csv', encoding='utf-8')\n",
        "data = data.dropna()\n",
        "\n",
        "# Preprocess the dataset\n",
        "labels = pd.get_dummies(data.category)\n",
        "labels.columns = [\"negative\", \"neutral\", \"positive\"]\n",
        "data = data.drop(columns=\"category\")\n",
        "\n",
        "# Tokenization and padding\n",
        "from keras.preprocessing.text import Tokenizer\n",
        "from tensorflow.keras.preprocessing.sequence import pad_sequences\n",
        "tokenizer = Tokenizer(num_words=8150, lower=True, split=\" \", oov_token=\"~\")\n",
        "tokenizer.fit_on_texts(data[\"clean_text\"])\n",
        "data[\"clean_text\"] = tokenizer.texts_to_sequences(data[\"clean_text\"])\n",
        "tweets = pad_sequences(data[\"clean_text\"])\n",
        "\n",
        "# Split the dataset\n",
        "from sklearn.model_selection import train_test_split\n",
        "X_train, X_test, y_train, y_test = train_test_split(tweets, labels, test_size=0.15)\n",
        "X_train, X_valid, y_train, y_valid = train_test_split(X_train, y_train, test_size=0.2)\n",
        "\n",
        "# Build the model\n",
        "model = keras.models.Sequential([\n",
        "    keras.layers.Embedding(input_dim=8150, output_dim=32),\n",
        "    keras.layers.GRU(128),\n",
        "    keras.layers.Dense(128, activation=\"relu\", kernel_initializer=\"he_normal\", kernel_regularizer=tf.keras.regularizers.l1(0.01)),\n",
        "    keras.layers.Dropout(0.5),\n",
        "    keras.layers.Dense(3, activation=\"softmax\", kernel_initializer=\"glorot_normal\")\n",
        "])\n",
        "\n",
        "# Compile the model\n",
        "model.compile(optimizer='adam', loss='categorical_crossentropy', metrics=['accuracy'])\n",
        "\n",
        "# Train the model\n",
        "history = model.fit(\n",
        "    X_train, y_train,\n",
        "    epochs=7, validation_data=(X_valid, y_valid),\n",
        "    callbacks=[keras.callbacks.EarlyStopping(patience=3, restore_best_weights=True)]\n",
        ")\n",
        "\n",
        "# Evaluate the model on the test set\n",
        "loss, accuracy = model.evaluate(X_test, y_test)\n",
        "print(\"Test loss:\", loss)\n",
        "print(\"Test accuracy:\", accuracy)"
      ]
    },
    {
      "cell_type": "code",
      "source": [
        "# User input for prediction\n",
        "user_input = input(\"Enter a text: \")\n",
        "user_input_tokens = tokenizer.texts_to_sequences([user_input])\n",
        "user_input_padded = pad_sequences(user_input_tokens, maxlen=tweets.shape[1], padding='post')\n",
        "\n",
        "# Make predictions\n",
        "predictions = model.predict(user_input_padded)\n",
        "\n",
        "# Post-process predictions\n",
        "predicted_class = np.argmax(predictions, axis=-1)\n",
        "\n",
        "# Define a mapping of class indices to sentiment labels\n",
        "class_to_sentiment = {0: 'Negative', 1: 'Neutral', 2: 'Positive'}\n",
        "\n",
        "# Get the corresponding sentiment label\n",
        "predicted_sentiment = class_to_sentiment[predicted_class[0]]\n",
        "\n",
        "# Print the predicted sentiment\n",
        "print(\"Predicted sentiment:\", predicted_sentiment)\n"
      ],
      "metadata": {
        "id": "SBXqvl6P7o-J",
        "colab": {
          "base_uri": "https://localhost:8080/"
        },
        "outputId": "18e2b0ee-9e78-4ce1-c4fd-040a36176dd0"
      },
      "execution_count": 36,
      "outputs": [
        {
          "output_type": "stream",
          "name": "stdout",
          "text": [
            "Enter a text: Five years ago, Union Berlin were getting ready to play Arminia Bielefeld in a 2. Bundesliga match.  Today, they're set to face Real Madrid at the Bernabéu in what will be the first Champions League match in the club's history.\n",
            "1/1 [==============================] - 0s 36ms/step\n",
            "Predicted sentiment: Positive\n"
          ]
        }
      ]
    }
  ],
  "metadata": {
    "accelerator": "GPU",
    "colab": {
      "provenance": []
    },
    "kernelspec": {
      "display_name": "Python 3",
      "name": "python3"
    },
    "language_info": {
      "name": "python"
    }
  },
  "nbformat": 4,
  "nbformat_minor": 0
}